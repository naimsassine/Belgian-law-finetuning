{
 "cells": [
  {
   "cell_type": "code",
   "execution_count": 2,
   "metadata": {},
   "outputs": [],
   "source": [
    "import pandas as pd\n",
    "\n",
    "context = pd.read_json(\n",
    "    \"/Users/naimsassine/Desktop/DSAI/Belgian-law-finetuning/Data/jsonl_files/all_text.jsonl\",\n",
    "    lines=True,\n",
    ")"
   ]
  },
  {
   "cell_type": "code",
   "execution_count": 13,
   "metadata": {},
   "outputs": [],
   "source": [
    "import re\n",
    "\n",
    "# Path to your text file\n",
    "file_path = \"/Users/naimsassine/Desktop/DSAI/keys\"\n",
    "\n",
    "# Read the content of the file\n",
    "with open(file_path, \"r\") as file:\n",
    "    content = file.read()\n",
    "\n",
    "# Regular expressions to match the key, base, and version\n",
    "mykey = r'mykey\\s*=\\s*\"([^\"]+)\"'\n",
    "mykey = re.search(mykey, content).group(1)\n",
    "\n",
    "myorg = r'myorg\\s*=\\s*\"([^\"]+)\"'\n",
    "myorg = re.search(myorg, content).group(1)"
   ]
  },
  {
   "cell_type": "code",
   "execution_count": 26,
   "metadata": {},
   "outputs": [],
   "source": [
    "response = client.chat.completions.create(\n",
    "    model=\"gpt-3.5-turbo\",\n",
    "    messages=[\n",
    "        {\"role\": \"user\", \"content\": \"what is the capital of brussels\"},\n",
    "    ],\n",
    ")"
   ]
  },
  {
   "cell_type": "code",
   "execution_count": 33,
   "metadata": {},
   "outputs": [
    {
     "data": {
      "text/plain": [
       "'Brussels is the capital of Belgium.'"
      ]
     },
     "execution_count": 33,
     "metadata": {},
     "output_type": "execute_result"
    }
   ],
   "source": [
    "response.choices[0].message.content"
   ]
  },
  {
   "cell_type": "code",
   "execution_count": 34,
   "metadata": {},
   "outputs": [],
   "source": [
    "from openai import OpenAI, OpenAIError\n",
    "\n",
    "client = OpenAI(organization=myorg, api_key=mykey)\n",
    "\n",
    "\n",
    "def generate_text(question, model=\"gpt-3.5-turbo\"):\n",
    "    prompt = \"\"\"Tu es un assistant avec des connaissances approfondies dans le milieu légal Belge. \n",
    "    Je veux que tu me donnes 5 questions et leur réponses respectives en te basant sur le \n",
    "    text juridique suivant. Note bien que le texte peut être en Anglais, Francais\n",
    "    ou Neerlandais, mais je veux que ta réponse soit en Francais. Il est aussi important que le format retourner soit le suivant : \n",
    "    question 1 : ...//\n",
    "    reponse 1 : ...//\n",
    "    question 2 : ...//\n",
    "    reponse 2 : ...//\n",
    "    ...\n",
    "    Voila le texte juridique : \"\"\"\n",
    "    full_prompt = f\"{prompt}\\n\\n{question}\"\n",
    "\n",
    "    try:\n",
    "        response = client.chat.completions.create(\n",
    "            model=model,\n",
    "            messages=[\n",
    "                {\"role\": \"user\", \"content\": full_prompt},\n",
    "            ],\n",
    "        )\n",
    "        return response.choices[0].message.content\n",
    "    except OpenAIError as e:\n",
    "        return f\"An error occurred: {e}\"\n",
    "\n",
    "\n",
    "def generate_answers_and_write_to_file(df, question_column, output_file):\n",
    "    with open(output_file, \"w\") as file:\n",
    "        for index, row in df.iterrows():\n",
    "            question = row[question_column]\n",
    "            answer = generate_text(question)\n",
    "            file.write(f\"Question: {question}\\nAnswer: {answer}\\n\\n\")"
   ]
  },
  {
   "cell_type": "code",
   "execution_count": 37,
   "metadata": {},
   "outputs": [],
   "source": [
    "generate_answers_and_write_to_file(context, \"text\", \"full_text.txt\")"
   ]
  },
  {
   "cell_type": "code",
   "execution_count": 52,
   "metadata": {},
   "outputs": [],
   "source": [
    "df = pd.read_csv(\"questions_answers_adjusted.csv\")"
   ]
  },
  {
   "cell_type": "code",
   "execution_count": 56,
   "metadata": {},
   "outputs": [
    {
     "data": {
      "text/plain": [
       "array(['Quelle est la limite de compétence de la Cour de Cassation ?',\n",
       "       \"Les audiences judiciaires peuvent être tenues à huis clos en cas d'infractions politiques ou de presse, sur la base d'un vote à l'unanimité.\"],\n",
       "      dtype=object)"
      ]
     },
     "execution_count": 56,
     "metadata": {},
     "output_type": "execute_result"
    }
   ],
   "source": [
    "df.iloc[902].values"
   ]
  },
  {
   "cell_type": "code",
   "execution_count": 58,
   "metadata": {},
   "outputs": [],
   "source": [
    "def remove_empty_lines(file_path):\n",
    "    # Read the file and filter out empty lines\n",
    "    with open(file_path, \"r\", encoding=\"utf-8\") as file:\n",
    "        lines = file.readlines()\n",
    "\n",
    "    non_empty_lines = [line for line in lines if line.strip()]\n",
    "\n",
    "    # Write the non-empty lines back to the file\n",
    "    with open(file_path, \"w\", encoding=\"utf-8\") as file:\n",
    "        file.writelines(non_empty_lines)\n",
    "\n",
    "\n",
    "# Replace 'full_text.txt' with the path to your text file\n",
    "remove_empty_lines(\"full_text.txt\")"
   ]
  },
  {
   "cell_type": "code",
   "execution_count": 71,
   "metadata": {},
   "outputs": [
    {
     "name": "stdout",
     "output_type": "stream",
     "text": [
      "No discrepancies found. The number of questions and responses are equal.\n"
     ]
    }
   ],
   "source": [
    "def identify_discrepancies(file_path):\n",
    "    with open(file_path, \"r\", encoding=\"utf-8\") as file:\n",
    "        lines = file.readlines()\n",
    "\n",
    "    question_count = 0\n",
    "    response_count = 0\n",
    "    discrepancies = []\n",
    "\n",
    "    for i, line in enumerate(lines):\n",
    "        if line.lower().startswith(\"question\"):\n",
    "            question_count += 1\n",
    "        elif line.lower().startswith(\"reponse\"):\n",
    "            response_count += 1\n",
    "        else:\n",
    "            # If the line does not start with \"question\" or \"reponse\", it could be an error\n",
    "            discrepancies.append(\n",
    "                f\"Line {i + 1}: {line.strip()} does not start with 'question' or 'reponse'.\"\n",
    "            )\n",
    "        if i % 2 != 0:\n",
    "            if question_count != response_count:\n",
    "                print(line)\n",
    "\n",
    "    # Check for count discrepancies\n",
    "    if question_count != response_count:\n",
    "        discrepancies.append(\n",
    "            f\"Number of questions ({question_count}) does not match number of responses ({response_count}).\"\n",
    "        )\n",
    "\n",
    "    # Print the results\n",
    "    if discrepancies:\n",
    "        for discrepancy in discrepancies:\n",
    "            print(discrepancy)\n",
    "    else:\n",
    "        print(\n",
    "            \"No discrepancies found. The number of questions and responses are equal.\"\n",
    "        )\n",
    "\n",
    "\n",
    "identify_discrepancies(\"full_text.txt\")"
   ]
  },
  {
   "cell_type": "code",
   "execution_count": 76,
   "metadata": {},
   "outputs": [],
   "source": [
    "import csv\n",
    "import re\n",
    "\n",
    "\n",
    "def extract_to_csv(input_file, output_file):\n",
    "    with open(input_file, \"r\", encoding=\"utf-8\") as file:\n",
    "        lines = file.readlines()\n",
    "\n",
    "    data = []\n",
    "    current_question = None\n",
    "    current_answer = None\n",
    "\n",
    "    for line in lines:\n",
    "        line = line.strip()\n",
    "        if line.lower().startswith(\"question\"):\n",
    "            if current_question and current_answer:\n",
    "                data.append([current_question, current_answer])\n",
    "            current_question = re.sub(\n",
    "                r\"^question \\d+ : \", \"\", line, flags=re.IGNORECASE\n",
    "            )\n",
    "            current_answer = None\n",
    "        elif line.lower().startswith(\"reponse\"):\n",
    "            current_answer = re.sub(r\"^reponse \\d+ : \", \"\", line, flags=re.IGNORECASE)\n",
    "\n",
    "    # Add the last question and answer pair if they exist\n",
    "    if current_question and current_answer:\n",
    "        data.append([current_question, current_answer])\n",
    "\n",
    "    # Write the data to a CSV file\n",
    "    with open(output_file, \"w\", newline=\"\", encoding=\"utf-8\") as csv_file:\n",
    "        writer = csv.writer(csv_file)\n",
    "        writer.writerow([\"Question\", \"Answer\"])\n",
    "        writer.writerows(data)\n",
    "\n",
    "\n",
    "extract_to_csv(\"full_text.txt\", \"output.csv\")"
   ]
  },
  {
   "cell_type": "code",
   "execution_count": 78,
   "metadata": {},
   "outputs": [],
   "source": [
    "second_thing = pd.read_csv(\"output.csv\")"
   ]
  },
  {
   "cell_type": "code",
   "execution_count": null,
   "metadata": {},
   "outputs": [],
   "source": []
  }
 ],
 "metadata": {
  "kernelspec": {
   "display_name": "mistral_ai",
   "language": "python",
   "name": "python3"
  },
  "language_info": {
   "codemirror_mode": {
    "name": "ipython",
    "version": 3
   },
   "file_extension": ".py",
   "mimetype": "text/x-python",
   "name": "python",
   "nbconvert_exporter": "python",
   "pygments_lexer": "ipython3",
   "version": "3.9.19"
  }
 },
 "nbformat": 4,
 "nbformat_minor": 2
}
