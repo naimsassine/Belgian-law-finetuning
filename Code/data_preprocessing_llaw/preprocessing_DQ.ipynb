{
 "cells": [
  {
   "cell_type": "code",
   "execution_count": 1,
   "metadata": {},
   "outputs": [],
   "source": [
    "# let's create a script to extract data from : https://www.droitsquotidiens.be/fr/service-juriweb"
   ]
  },
  {
   "cell_type": "code",
   "execution_count": 2,
   "metadata": {},
   "outputs": [],
   "source": [
    "import requests\n",
    "from bs4 import BeautifulSoup\n",
    "import nltk\n",
    "from nltk.tokenize import sent_tokenize, word_tokenize\n",
    "from nltk.corpus import stopwords\n",
    "import re"
   ]
  },
  {
   "cell_type": "code",
   "execution_count": 3,
   "metadata": {},
   "outputs": [],
   "source": [
    "def extract_text_between_keywords(text, keyword1, keyword2):\n",
    "    try:\n",
    "        start_index = text.index(keyword1) + len(keyword1)\n",
    "        end_index = text.index(keyword2)\n",
    "        return text[start_index:end_index].strip()\n",
    "    except ValueError:\n",
    "        return \"Keywords not found in the text.\"\n",
    "\n",
    "\n",
    "def extract_text_before_keyword(text, keyword):\n",
    "    try:\n",
    "        end_index = text.index(keyword)\n",
    "        extracted_text = text[:end_index].strip()\n",
    "\n",
    "        # Replace multiple spaces with a single space\n",
    "        cleaned_text = re.sub(r\"\\s+\", \" \", extracted_text)\n",
    "\n",
    "        return cleaned_text\n",
    "    except ValueError:\n",
    "        return \"Keyword not found in the text.\"\n",
    "\n",
    "\n",
    "def extract_QR(url):\n",
    "    url = \"https://www.droitsquotidiens.be\" + url\n",
    "    response = requests.get(url)\n",
    "    soup = BeautifulSoup(response.content, \"html.parser\")\n",
    "    raw_text = soup.get_text()\n",
    "\n",
    "    raw_text = raw_text.lower()\n",
    "    raw_text = raw_text.replace(\"\\n\", \" \")\n",
    "\n",
    "    raw_text = re.sub(r\"\\s+\", \" \", raw_text)\n",
    "\n",
    "    # Example usage\n",
    "    keyword1 = \"vous pas encore abonné ?\"\n",
    "    keyword2 = \"envoyer par e-mail\"\n",
    "\n",
    "    response = extract_text_between_keywords(raw_text, keyword1, keyword2)\n",
    "    keyword = \"droits quotidiens -\"\n",
    "    question = extract_text_before_keyword(raw_text, keyword)\n",
    "\n",
    "    return (question, response)"
   ]
  },
  {
   "cell_type": "code",
   "execution_count": 4,
   "metadata": {},
   "outputs": [],
   "source": [
    "def extract_links_with_keyword(url, keyword):\n",
    "    try:\n",
    "        # Fetch the content of the URL\n",
    "        response = requests.get(url)\n",
    "        response.raise_for_status()  # Raise an error for bad status codes\n",
    "    except requests.exceptions.RequestException as e:\n",
    "        print(f\"Error fetching the URL: {e}\")\n",
    "        return []\n",
    "\n",
    "    # Parse the HTML content\n",
    "    soup = BeautifulSoup(response.content, \"html.parser\")\n",
    "\n",
    "    # Extract all anchor tags\n",
    "    anchor_tags = soup.find_all(\"a\")\n",
    "\n",
    "    # Extract href attributes that contain the keyword\n",
    "    links = [\n",
    "        tag.get(\"href\")\n",
    "        for tag in anchor_tags\n",
    "        if tag.get(\"href\") and keyword in tag.get(\"href\")\n",
    "    ]\n",
    "\n",
    "    return links\n",
    "\n",
    "\n",
    "# Example usage\n",
    "url = \"https://www.droitsquotidiens.be/fr/categories/famille\"\n",
    "keyword = \"question\"\n",
    "links = extract_links_with_keyword(url, keyword)"
   ]
  },
  {
   "cell_type": "code",
   "execution_count": 6,
   "metadata": {},
   "outputs": [],
   "source": [
    "y = []\n",
    "for url in links:\n",
    "    x = extract_QR(url)\n",
    "    y.append(x)"
   ]
  },
  {
   "cell_type": "code",
   "execution_count": 12,
   "metadata": {},
   "outputs": [],
   "source": [
    "import pandas as pd\n",
    "\n",
    "dat = pd.DataFrame(y).rename(columns={0: \"question\", 1: \"answer\"})"
   ]
  },
  {
   "cell_type": "code",
   "execution_count": 13,
   "metadata": {},
   "outputs": [],
   "source": [
    "dat.to_csv(\"droit_quotidien_QR.csv\")"
   ]
  },
  {
   "cell_type": "code",
   "execution_count": null,
   "metadata": {},
   "outputs": [],
   "source": []
  }
 ],
 "metadata": {
  "kernelspec": {
   "display_name": "Python 3",
   "language": "python",
   "name": "python3"
  },
  "language_info": {
   "codemirror_mode": {
    "name": "ipython",
    "version": 3
   },
   "file_extension": ".py",
   "mimetype": "text/x-python",
   "name": "python",
   "nbconvert_exporter": "python",
   "pygments_lexer": "ipython3",
   "version": "3.8.2"
  }
 },
 "nbformat": 4,
 "nbformat_minor": 2
}
